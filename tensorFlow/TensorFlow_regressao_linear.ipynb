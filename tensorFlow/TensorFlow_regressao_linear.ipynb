{
 "cells": [
  {
   "cell_type": "markdown",
   "metadata": {},
   "source": [
    "## Basico de tensorFlow ##"
   ]
  },
  {
   "cell_type": "markdown",
   "metadata": {},
   "source": [
    "Referencias:\n",
    "https://blog.altoros.com/using-linear-regression-in-tensorflow.html  \n",
    "https://www.youtube.com/watch?v=yX8KuPZCAMo"
   ]
  },
  {
   "cell_type": "code",
   "execution_count": 620,
   "metadata": {
    "collapsed": true
   },
   "outputs": [],
   "source": [
    "import tensorflow as tf\n",
    "import matplotlib.pyplot as plt\n",
    "import numpy as np\n",
    "from sklearn.utils import shuffle\n",
    "from sklearn.model_selection import train_test_split\n",
    "from sklearn import preprocessing"
   ]
  },
  {
   "cell_type": "code",
   "execution_count": 8,
   "metadata": {
    "collapsed": true
   },
   "outputs": [],
   "source": [
    "a = tf.constant(5.0)"
   ]
  },
  {
   "cell_type": "code",
   "execution_count": 9,
   "metadata": {
    "collapsed": true
   },
   "outputs": [],
   "source": [
    "b = tf.constant(6.0)"
   ]
  },
  {
   "cell_type": "code",
   "execution_count": 10,
   "metadata": {
    "collapsed": true
   },
   "outputs": [],
   "source": [
    "c = a * b "
   ]
  },
  {
   "cell_type": "code",
   "execution_count": 11,
   "metadata": {
    "collapsed": true
   },
   "outputs": [],
   "source": [
    "sess = tf.Session()"
   ]
  },
  {
   "cell_type": "code",
   "execution_count": 15,
   "metadata": {
    "collapsed": true
   },
   "outputs": [],
   "source": [
    "sess.run(c)"
   ]
  },
  {
   "cell_type": "code",
   "execution_count": 21,
   "metadata": {
    "collapsed": true
   },
   "outputs": [],
   "source": [
    "File_writer = tf.summary.FileWriter('/Users/roger/tensor/graph', sess.graph)"
   ]
  },
  {
   "cell_type": "markdown",
   "metadata": {},
   "source": [
    "utilizar o shell ate a pasta salva e utilizar o comando tensorboard --logdir=\"tensor\" para iniciar o tensor board"
   ]
  },
  {
   "cell_type": "markdown",
   "metadata": {
    "collapsed": true
   },
   "source": [
    "## Placeholder ##"
   ]
  },
  {
   "cell_type": "code",
   "execution_count": 45,
   "metadata": {
    "collapsed": true
   },
   "outputs": [],
   "source": [
    "a = tf.placeholder(tf.float32)"
   ]
  },
  {
   "cell_type": "code",
   "execution_count": 46,
   "metadata": {
    "collapsed": true
   },
   "outputs": [],
   "source": [
    "b = tf.placeholder(tf.float32)"
   ]
  },
  {
   "cell_type": "code",
   "execution_count": 47,
   "metadata": {
    "collapsed": true
   },
   "outputs": [],
   "source": [
    "adder_node = a+b"
   ]
  },
  {
   "cell_type": "code",
   "execution_count": 48,
   "metadata": {
    "collapsed": true
   },
   "outputs": [],
   "source": [
    "sess = tf.Session()"
   ]
  },
  {
   "cell_type": "code",
   "execution_count": 49,
   "metadata": {},
   "outputs": [
    {
     "name": "stdout",
     "output_type": "stream",
     "text": [
      "[ 3.  7.]\n"
     ]
    }
   ],
   "source": [
    "print(sess.run(adder_node,feed_dict={a:[1,3],b:[2,4]}))"
   ]
  },
  {
   "cell_type": "markdown",
   "metadata": {},
   "source": [
    "## Linear model ##"
   ]
  },
  {
   "cell_type": "code",
   "execution_count": 704,
   "metadata": {
    "collapsed": true
   },
   "outputs": [],
   "source": [
    "W = tf.Variable(numpy.random.randn(), name=\"weight\")\n",
    "b = tf.Variable(numpy.random.randn(), name=\"bias\")"
   ]
  },
  {
   "cell_type": "code",
   "execution_count": 705,
   "metadata": {
    "collapsed": true
   },
   "outputs": [],
   "source": [
    "#inputs\n",
    "x = tf.placeholder(\"float\")\n",
    "y  = tf.add(tf.multiply(x, W), b) \n",
    "y_ = tf.placeholder(\"float\")"
   ]
  },
  {
   "cell_type": "code",
   "execution_count": 706,
   "metadata": {
    "collapsed": true
   },
   "outputs": [],
   "source": [
    "# cost_function\n",
    "squared_delta = tf.square(y - y_)\n",
    "cost_function = tf.reduce_sum(squared_delta)"
   ]
  },
  {
   "cell_type": "code",
   "execution_count": 707,
   "metadata": {
    "collapsed": true
   },
   "outputs": [],
   "source": [
    "# training_step\n",
    "learning_rate = 0.01\n",
    "training_step = tf.train.GradientDescentOptimizer(learning_rate).minimize(cost_function)"
   ]
  },
  {
   "cell_type": "code",
   "execution_count": 708,
   "metadata": {
    "collapsed": true
   },
   "outputs": [],
   "source": [
    "init = tf.global_variables_initializer()"
   ]
  },
  {
   "cell_type": "code",
   "execution_count": 709,
   "metadata": {
    "collapsed": true
   },
   "outputs": [],
   "source": [
    "sess = tf.Session()"
   ]
  },
  {
   "cell_type": "code",
   "execution_count": 710,
   "metadata": {
    "collapsed": true
   },
   "outputs": [],
   "source": [
    "sess.run(init)"
   ]
  },
  {
   "cell_type": "markdown",
   "metadata": {
    "collapsed": true
   },
   "source": [
    "## Funcao para normalizar dados ##"
   ]
  },
  {
   "cell_type": "code",
   "execution_count": 711,
   "metadata": {
    "collapsed": true
   },
   "outputs": [],
   "source": [
    "def normalize(array):\n",
    "    return (array - array.mean()) / array.std()"
   ]
  },
  {
   "cell_type": "markdown",
   "metadata": {},
   "source": [
    "Dados de exemplo, explicar atraves de uma regressao linear se existe relacao do tamanho da casa com o preco"
   ]
  },
  {
   "cell_type": "code",
   "execution_count": 712,
   "metadata": {
    "collapsed": true
   },
   "outputs": [],
   "source": [
    "tamanho_casa = np.asarray([ 2104,  1600,  2400,  1416,  3000,  1985,  1534,  1427,\n",
    "  1380,  1494,  1940,  2000,  1890,  4478,  1268,  2300,\n",
    "  1320,  1236,  2609,  3031,  1767,  1888,  1604,  1962,\n",
    "  3890,  1100,  1458,  2526,  2200,  2637,  1839,  1000,\n",
    "  2040,  3137,  1811,  1437,  1239,  2132,  4215,  2162,\n",
    "  1664,  2238,  2567,  1200,   852,  1852,  1203])\n",
    "preco = np.asarray([399900,  329900,  369000,  232000,  539900,  299900,  314900,  198999,\n",
    "  212000,  242500,  239999,  347000,  329999,  699900,  259900,  449900,\n",
    "  299900,  199900,  499998,  599000,  252900,  255000,  242900,  259900,\n",
    "  573900,  249900,  464500,  469000,  475000,  299900,  349900,  169900,\n",
    "  314900,  579900,  285900,  249900,  229900,  345000,  549000,  287000,\n",
    "  368500,  329900,  314000,  299000,  179900,  299900,  239500])\n"
   ]
  },
  {
   "cell_type": "code",
   "execution_count": 713,
   "metadata": {},
   "outputs": [
    {
     "data": {
      "image/png": "[encoded data removed]",
      "text/plain": [
       "<matplotlib.figure.Figure at 0x138096ed0>"
      ]
     },
     "metadata": {},
     "output_type": "display_data"
    }
   ],
   "source": [
    "plt.scatter(x=tamanho_casa,y=preco,s=30,color='r')\n",
    "plt.title('Preco x Tamanho')\n",
    "plt.show()"
   ]
  },
  {
   "cell_type": "markdown",
   "metadata": {},
   "source": [
    "**Normalizando dados**"
   ]
  },
  {
   "cell_type": "code",
   "execution_count": 714,
   "metadata": {
    "collapsed": true
   },
   "outputs": [],
   "source": [
    "tamanho_casa_n =  preprocessing.scale(tamanho_casa)\n",
    "preco_n = preprocessing.scale(preco)"
   ]
  },
  {
   "cell_type": "code",
   "execution_count": 715,
   "metadata": {
    "collapsed": true
   },
   "outputs": [],
   "source": [
    "X = tamanho_casa_n\n",
    "Y = preco_n"
   ]
  },
  {
   "cell_type": "code",
   "execution_count": 716,
   "metadata": {},
   "outputs": [
    {
     "data": {
      "image/png": "[encoded data removed]",
      "text/plain": [
       "<matplotlib.figure.Figure at 0x131012190>"
      ]
     },
     "metadata": {},
     "output_type": "display_data"
    }
   ],
   "source": [
    "plt.scatter(x=X,y=Y,s=30,color='r')\n",
    "plt.title('Preco x Tamanho')\n",
    "plt.show()"
   ]
  },
  {
   "cell_type": "code",
   "execution_count": 717,
   "metadata": {
    "collapsed": true
   },
   "outputs": [],
   "source": [
    "# shuffle the dataset\n",
    "X, Y  = shuffle(X , Y , random_state =1)"
   ]
  },
  {
   "cell_type": "code",
   "execution_count": 718,
   "metadata": {
    "collapsed": true
   },
   "outputs": [],
   "source": [
    "train_x, test_x , train_y, test_y = train_test_split(X,Y,test_size=0.2,random_state=415)"
   ]
  },
  {
   "cell_type": "code",
   "execution_count": 719,
   "metadata": {},
   "outputs": [
    {
     "data": {
      "text/plain": [
       "array([ 0.22705549,  1.03948831,  1.88749033, -0.81173485, -0.21351753,\n",
       "       -0.70744435,  0.88508566,  0.05325146, -0.33477616, -0.69046814])"
      ]
     },
     "execution_count": 719,
     "metadata": {},
     "output_type": "execute_result"
    }
   ],
   "source": [
    "test_y\n"
   ]
  },
  {
   "cell_type": "code",
   "execution_count": 720,
   "metadata": {
    "collapsed": true
   },
   "outputs": [],
   "source": [
    "epoch = 20\n",
    "cost_history = np.empty(shape=[1], dtype = float)\n",
    "mse_history = []\n",
    "display_step = 5"
   ]
  },
  {
   "cell_type": "code",
   "execution_count": 721,
   "metadata": {},
   "outputs": [
    {
     "name": "stdout",
     "output_type": "stream",
     "text": [
      "Iteration: 0001 cost= 22.673526764 W= 0.678729 b= -0.55184\n",
      "Iteration: 0006 cost= 9.632670403 W= 0.881065 b= 0.0155139\n",
      "Iteration: 0011 cost= 9.632619858 W= 0.881697 b= 0.0165257\n",
      "Iteration: 0016 cost= 9.632619858 W= 0.881699 b= 0.0165277\n"
     ]
    }
   ],
   "source": [
    "for iteration in range(epoch):\n",
    "    sess.run(training_step, feed_dict={x:train_x,y_:train_y})\n",
    "    \n",
    "    \n",
    "    if iteration % display_step == 0:\n",
    "        print \"Iteration:\", '%04d' % (iteration + 1), \"cost=\", \"{:.9f}\".format(sess.run(cost_function, feed_dict={x:train_x, y_:train_y})),\"W=\", sess.run(W), \"b=\", sess.run(b)\n",
    "    \n",
    "    #cost = sess.run(cost_function, feed_dict={x:train_x,y_:train_y})\n",
    "    #cost_history = np.append(cost_history,cost)\n",
    "    #correct_prediction = tf.equal(tf.argmax(y,1),tf.argmax(y_,1))\n",
    "    #accuracy = tf.reduce_mean(tf.cast(correct_prediction,tf.float32))\n",
    "    \n",
    "    pred_y = sess.run(y,  feed_dict={x:test_x})\n",
    "    \n",
    "    #mse =  tf.reduce_sum(tf.square(pred_y - test_y))\n",
    "    #mse_ = sess.run(mse)\n",
    "   \n",
    "    #accur = (sess.run(accuracy, feed_dict={x:train_x,y_:train_y}))\n",
    "    #accuracy_history.append(accur)    \n",
    "    #print('epoch:',i,' ',mse_)    "
   ]
  },
  {
   "cell_type": "code",
   "execution_count": 722,
   "metadata": {},
   "outputs": [
    {
     "data": {
      "text/plain": [
       "0.5692935"
      ]
     },
     "execution_count": 722,
     "metadata": {},
     "output_type": "execute_result"
    }
   ],
   "source": [
    "#medidas\n",
    "total_error = tf.reduce_sum(tf.square(tf.subtract(y, tf.reduce_mean(y))))\n",
    "unexplained_error = tf.reduce_sum(tf.square(tf.subtract(y, pred_y)))\n",
    "R_squared = tf.subtract(1.0, tf.divide(unexplained_error, total_error))\n",
    "MAPE = tf.reduce_mean(tf.abs(tf.div(tf.subtract(y, pred_y), y)))\n",
    "RMSE = tf.sqrt(tf.reduce_mean(tf.square(tf.subtract(y, pred_y))))\n",
    "sess.run(R_squared,feed_dict={y:test_y})"
   ]
  },
  {
   "cell_type": "code",
   "execution_count": 723,
   "metadata": {},
   "outputs": [
    {
     "name": "stdout",
     "output_type": "stream",
     "text": [
      "Model paramters:\n",
      "Weight:0.881699\n",
      "bias:0.016528\n"
     ]
    }
   ],
   "source": [
    "print \"Model paramters:\"       \n",
    "print \"Weight:%f\" %sess.run(W)\n",
    "print \"bias:%f\" %sess.run(b)"
   ]
  },
  {
   "cell_type": "markdown",
   "metadata": {},
   "source": [
    "** Teste **"
   ]
  },
  {
   "cell_type": "code",
   "execution_count": 724,
   "metadata": {
    "collapsed": true
   },
   "outputs": [],
   "source": [
    "preco_ = tf.add(tf.multiply(test_x, sess.run(W)), sess.run(b)) "
   ]
  },
  {
   "cell_type": "code",
   "execution_count": 725,
   "metadata": {
    "collapsed": true
   },
   "outputs": [],
   "source": [
    "y_ = sess.run(preco_)"
   ]
  },
  {
   "cell_type": "code",
   "execution_count": 726,
   "metadata": {},
   "outputs": [
    {
     "data": {
      "text/plain": [
       "array([-0.36104804,  0.60565473,  2.1353329 , -0.05152372,  0.65163479,\n",
       "       -0.24553715,  0.35220366,  0.01576418, -0.88140777, -0.1098399 ])"
      ]
     },
     "execution_count": 726,
     "metadata": {},
     "output_type": "execute_result"
    }
   ],
   "source": [
    "y_"
   ]
  },
  {
   "cell_type": "code",
   "execution_count": 727,
   "metadata": {},
   "outputs": [
    {
     "data": {
      "text/plain": [
       "array([ 0.22705549,  1.03948831,  1.88749033, -0.81173485, -0.21351753,\n",
       "       -0.70744435,  0.88508566,  0.05325146, -0.33477616, -0.69046814])"
      ]
     },
     "execution_count": 727,
     "metadata": {},
     "output_type": "execute_result"
    }
   ],
   "source": [
    "test_y"
   ]
  },
  {
   "cell_type": "code",
   "execution_count": 728,
   "metadata": {},
   "outputs": [
    {
     "data": {
      "image/png": "[encoded data removed]",
      "text/plain": [
       "<matplotlib.figure.Figure at 0x13792bcd0>"
      ]
     },
     "metadata": {},
     "output_type": "display_data"
    }
   ],
   "source": [
    "plt.plot(y_,color='g')\n",
    "plt.plot(test_y,color='b')\n",
    "plt.title('Previsao ')\n",
    "plt.show()"
   ]
  },
  {
   "cell_type": "code",
   "execution_count": null,
   "metadata": {
    "collapsed": true
   },
   "outputs": [],
   "source": []
  },
  {
   "cell_type": "code",
   "execution_count": 379,
   "metadata": {
    "collapsed": true
   },
   "outputs": [],
   "source": [
    "sess.close()"
   ]
  },
  {
   "cell_type": "code",
   "execution_count": 591,
   "metadata": {
    "collapsed": true
   },
   "outputs": [],
   "source": []
  },
  {
   "cell_type": "code",
   "execution_count": null,
   "metadata": {
    "collapsed": true
   },
   "outputs": [],
   "source": []
  },
  {
   "cell_type": "code",
   "execution_count": null,
   "metadata": {
    "collapsed": true
   },
   "outputs": [],
   "source": []
  }
 ],
 "metadata": {
  "kernelspec": {
   "display_name": "Python 2",
   "language": "python",
   "name": "python2"
  },
  "language_info": {
   "codemirror_mode": {
    "name": "ipython",
    "version": 2
   },
   "file_extension": ".py",
   "mimetype": "text/x-python",
   "name": "python",
   "nbconvert_exporter": "python",
   "pygments_lexer": "ipython2",
   "version": "2.7.13"
  },
  "widgets": {
   "application/vnd.jupyter.widget-state+json": {
    "state": {},
    "version_major": 1,
    "version_minor": 0
   }
  }
 },
 "nbformat": 4,
 "nbformat_minor": 2
}
